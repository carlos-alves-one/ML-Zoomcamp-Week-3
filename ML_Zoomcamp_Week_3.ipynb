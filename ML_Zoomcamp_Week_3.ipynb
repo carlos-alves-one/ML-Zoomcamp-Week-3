{
  "nbformat": 4,
  "nbformat_minor": 0,
  "metadata": {
    "colab": {
      "provenance": [],
      "authorship_tag": "ABX9TyMe6PEcMNDXZHFnO5aQXpQC",
      "include_colab_link": true
    },
    "kernelspec": {
      "name": "python3",
      "display_name": "Python 3"
    },
    "language_info": {
      "name": "python"
    }
  },
  "cells": [
    {
      "cell_type": "markdown",
      "metadata": {
        "id": "view-in-github",
        "colab_type": "text"
      },
      "source": [
        "<a href=\"https://colab.research.google.com/github/carlos-alves-one/-ML-Zoomcamp-Week-3/blob/main/ML_Zoomcamp_Week_3.ipynb\" target=\"_parent\"><img src=\"https://colab.research.google.com/assets/colab-badge.svg\" alt=\"Open In Colab\"/></a>"
      ]
    },
    {
      "cell_type": "markdown",
      "source": [
        "## Goldsmiths University of London\n",
        "**Author....: Carlos Manuel de Oliveira Alves**<br>\n",
        "**Student..: cdeol003**<br>\n",
        "**Created..: 20/09/2022**"
      ],
      "metadata": {
        "id": "yqjkHVvqrDEQ"
      }
    },
    {
      "cell_type": "markdown",
      "source": [
        "###3.1 Churn prediction project"
      ],
      "metadata": {
        "id": "cWE1zJEUbcsR"
      }
    },
    {
      "cell_type": "code",
      "source": [
        "# # Import libraries for the project\n",
        "import pandas as pd\n",
        "import numpy as np\n",
        "\n",
        "import matplotlib.pyplot as plt"
      ],
      "metadata": {
        "id": "s3Y4yCZgfJEa"
      },
      "execution_count": 2,
      "outputs": []
    },
    {
      "cell_type": "code",
      "execution_count": 1,
      "metadata": {
        "id": "hsjL6aLQq2iV"
      },
      "outputs": [],
      "source": [
        "# Locate dataset for the project\n",
        "data = 'https://raw.githubusercontent.com/alexeygrigorev/mlbookcamp-code/blob/master/chapter-03-churn-prediction/WA_Fn-UseC_-Telco-Customer-Churn.csv'"
      ]
    }
  ]
}