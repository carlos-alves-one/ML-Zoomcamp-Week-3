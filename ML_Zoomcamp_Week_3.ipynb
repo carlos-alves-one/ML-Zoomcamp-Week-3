{
  "nbformat": 4,
  "nbformat_minor": 0,
  "metadata": {
    "colab": {
      "provenance": [],
      "authorship_tag": "ABX9TyOy+7TrtO71RoRIAqFBkWYB",
      "include_colab_link": true
    },
    "kernelspec": {
      "name": "python3",
      "display_name": "Python 3"
    },
    "language_info": {
      "name": "python"
    }
  },
  "cells": [
    {
      "cell_type": "markdown",
      "metadata": {
        "id": "view-in-github",
        "colab_type": "text"
      },
      "source": [
        "<a href=\"https://colab.research.google.com/github/carlos-alves-one/-ML-Zoomcamp-Week-3/blob/main/ML_Zoomcamp_Week_3.ipynb\" target=\"_parent\"><img src=\"https://colab.research.google.com/assets/colab-badge.svg\" alt=\"Open In Colab\"/></a>"
      ]
    },
    {
      "cell_type": "markdown",
      "source": [
        "## Goldsmiths University of London\n",
        "**Author....: Carlos Manuel de Oliveira Alves**<br>\n",
        "**Student..: cdeol003**<br>\n",
        "**Created..: 20/09/2022**"
      ],
      "metadata": {
        "id": "yqjkHVvqrDEQ"
      }
    },
    {
      "cell_type": "markdown",
      "source": [
        "###3.1 Churn prediction project"
      ],
      "metadata": {
        "id": "cWE1zJEUbcsR"
      }
    },
    {
      "cell_type": "code",
      "source": [
        "# # Import libraries for the project\n",
        "import pandas as pd\n",
        "import numpy as np\n",
        "\n",
        "import matplotlib.pyplot as plt"
      ],
      "metadata": {
        "id": "s3Y4yCZgfJEa"
      },
      "execution_count": 15,
      "outputs": []
    },
    {
      "cell_type": "code",
      "execution_count": 16,
      "metadata": {
        "id": "hsjL6aLQq2iV"
      },
      "outputs": [],
      "source": [
        "# Locate dataset for the project\n",
        "data = 'https://github.com/alexeygrigorev/mlbookcamp-code/blob/fc43fe928f1b6d0a5143ce89110ddc135b1221e8/chapter-03-churn-prediction/WA_Fn-UseC_-Telco-Customer-Churn.csv'"
      ]
    },
    {
      "cell_type": "code",
      "source": [
        "# Download dataset and store it locally\n",
        "!wget $data -O data-week-3.csv"
      ],
      "metadata": {
        "colab": {
          "base_uri": "https://localhost:8080/"
        },
        "id": "LkUtfvn3fmdF",
        "outputId": "c9bfc38d-68c9-4b49-97cb-cc79a32d41d9"
      },
      "execution_count": 18,
      "outputs": [
        {
          "output_type": "stream",
          "name": "stdout",
          "text": [
            "--2022-09-20 10:53:41--  https://github.com/alexeygrigorev/mlbookcamp-code/blob/fc43fe928f1b6d0a5143ce89110ddc135b1221e8/chapter-03-churn-prediction/WA_Fn-UseC_-Telco-Customer-Churn.csv\n",
            "Resolving github.com (github.com)... 140.82.114.4\n",
            "Connecting to github.com (github.com)|140.82.114.4|:443... connected.\n",
            "HTTP request sent, awaiting response... 200 OK\n",
            "Length: unspecified [text/html]\n",
            "Saving to: ‘data-week-3.csv’\n",
            "\n",
            "data-week-3.csv         [  <=>               ]   2.62M  6.05MB/s    in 0.4s    \n",
            "\n",
            "2022-09-20 10:53:42 (6.05 MB/s) - ‘data-week-3.csv’ saved [2742972]\n",
            "\n"
          ]
        }
      ]
    },
    {
      "cell_type": "code",
      "source": [],
      "metadata": {
        "id": "T8ejnDzRfwog"
      },
      "execution_count": 17,
      "outputs": []
    }
  ]
}